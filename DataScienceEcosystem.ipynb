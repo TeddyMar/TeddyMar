{
 "cells": [
  {
   "cell_type": "markdown",
   "id": "3bdfea94-68d3-41ad-81a0-c680784fa79f",
   "metadata": {},
   "source": [
    "# Data Science Tools and Ecosystem"
   ]
  },
  {
   "cell_type": "markdown",
   "id": "2fd8334e-5288-49bf-8133-678c935a7838",
   "metadata": {},
   "source": [
    "## In this notebook, Data Science Tools and Ecosystem are summarized. ##"
   ]
  },
  {
   "cell_type": "markdown",
   "id": "ab675cac-7a32-440f-8d4c-d814db6bc6a1",
   "metadata": {},
   "source": [
    "**Objectives:**\n",
    "**List popular languages for Data Science:**\n",
    "**Commonly Data scientists libraries**\n",
    "**Data science tools**"
   ]
  },
  {
   "cell_type": "markdown",
   "id": "43692431-c5bd-41d7-8e1f-04769456bcc0",
   "metadata": {},
   "source": [
    "#### Some of the popular languages that Data Scientists use are:\n",
    "1. Python\n",
    "2. R\n",
    "3. SQL\n",
    "4. Julia"
   ]
  },
  {
   "cell_type": "markdown",
   "id": "25bcbf2b-c469-4bd7-8efb-f6f1ce316640",
   "metadata": {},
   "source": [
    "#### Some of the commonly used libraries used by Data Scientists include:\n",
    "1. Numpuy\n",
    "2. Pandas\n",
    "3. Matplotlib\n",
    "4. Scikit-Learn\n",
    "5. TensorFlow"
   ]
  },
  {
   "cell_type": "markdown",
   "id": "64989303-7069-435c-9a70-32c25c4e3aaf",
   "metadata": {},
   "source": [
    "#### Data Science Tools:\n",
    "1. Jupyter Notebook\n",
    "2. Rstudio\n",
    "3. Hadoop\n",
    "4. Apache Spark\n",
    "5. Seaborn"
   ]
  },
  {
   "cell_type": "markdown",
   "id": "92b7f580-43e0-40a0-82c0-99f61d5fa254",
   "metadata": {},
   "source": [
    "### Below are a few examples of evaluating arithmetic expressions in Python:\n",
    "1. add = a + b\n",
    "2. sub = a - b\n",
    "3. mul = a * b\n",
    "4. div = a / b\n",
    "5. modulu = a % b\n"
   ]
  },
  {
   "cell_type": "code",
   "execution_count": 13,
   "id": "99242864-c31c-460a-8b2b-5fb2c9798137",
   "metadata": {},
   "outputs": [
    {
     "data": {
      "text/plain": [
       "17"
      ]
     },
     "execution_count": 13,
     "metadata": {},
     "output_type": "execute_result"
    }
   ],
   "source": [
    "#  This a simple arithmetic expression to mutiply then add integers\n",
    "(3*4)+5"
   ]
  },
  {
   "cell_type": "code",
   "execution_count": 15,
   "id": "80e1b4d9-a0eb-4d8b-b5e5-096f975a9ebf",
   "metadata": {},
   "outputs": [
    {
     "name": "stdout",
     "output_type": "stream",
     "text": [
      "3.3333333333333335\n"
     ]
    }
   ],
   "source": [
    "# This will convert 200 minutes to hours by diving by 60\n",
    "min_2_hours = 200 / 60\n",
    "print(min_2_hours)"
   ]
  },
  {
   "cell_type": "markdown",
   "id": "6d9c6309-8541-4a4a-b06d-a2c9a4122ba1",
   "metadata": {},
   "source": [
    "## Author : Shitaye Kefale"
   ]
  },
  {
   "cell_type": "code",
   "execution_count": null,
   "id": "395fc108-b7ab-4b3b-b93e-1923a69b6c68",
   "metadata": {},
   "outputs": [],
   "source": []
  }
 ],
 "metadata": {
  "kernelspec": {
   "display_name": "Python 3 (ipykernel)",
   "language": "python",
   "name": "python3"
  },
  "language_info": {
   "codemirror_mode": {
    "name": "ipython",
    "version": 3
   },
   "file_extension": ".py",
   "mimetype": "text/x-python",
   "name": "python",
   "nbconvert_exporter": "python",
   "pygments_lexer": "ipython3",
   "version": "3.12.4"
  }
 },
 "nbformat": 4,
 "nbformat_minor": 5
}
